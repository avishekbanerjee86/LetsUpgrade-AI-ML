{
 "cells": [
  {
   "cell_type": "markdown",
   "metadata": {},
   "source": [
    "## Question 1 :\n",
    "### Research on whether addition, subtraction, multiplication, division, floor division and modulo operations be performed on complex numbers. Based on your study, implement a Python program to demonstrate these operations."
   ]
  },
  {
   "cell_type": "code",
   "execution_count": 3,
   "metadata": {},
   "outputs": [
    {
     "name": "stdout",
     "output_type": "stream",
     "text": [
      "Addition of two complex number a and b is:  (3+11j)\n",
      "Subtraction of two complex number a and b is:  (-1-7j)\n",
      "Multiplication of two complex number a and b:  (-16+13j)\n",
      "The division of two complex number a and b:  (0.23529411764705882-0.058823529411764705j)\n",
      "Note. As I understand floor division and Modulo operator are  not applicable for Complex numbers.\n"
     ]
    }
   ],
   "source": [
    "a = 1+2j\n",
    "\n",
    "b = 2+9j\n",
    "\n",
    "''' Addition of two complex number a and b'''\n",
    "\n",
    "c = a + b\n",
    "print(\"Addition of two complex number a and b is: \",c)\n",
    "\n",
    "''' Subtraction of two complex number a and b'''\n",
    "\n",
    "d = a - b\n",
    "print(\"Subtraction of two complex number a and b is: \",d)\n",
    "\n",
    "''' Multiplication of two complex number a and b'''\n",
    "\n",
    "e = a * b\n",
    "print(\"Multiplication of two complex number a and b: \",e)\n",
    "\n",
    "''' Division of two complex number a and b'''\n",
    "\n",
    "f = a/b\n",
    "print(\"The division of two complex number a and b: \",f)\n",
    "\n",
    "print ('Note. As I understand floor division and Modulo operator are  not applicable for Complex numbers.')"
   ]
  },
  {
   "cell_type": "markdown",
   "metadata": {},
   "source": [
    "## Question 2 :\n",
    "### Research on range() functions and its parameters. Create a markdown cell and write in your own words (no copy-paste from google please) what you understand about it. Implement a small program of your choice on the same."
   ]
  },
  {
   "cell_type": "markdown",
   "metadata": {},
   "source": [
    "**The range() function in Python is being designed to return a sequence of numbers. It starts from 0 by default, and increments by 1 (by default). It stops before a specified number. It is often used for looping a specific number. It can take three parameters by desgn**\n"
   ]
  },
  {
   "cell_type": "code",
   "execution_count": 3,
   "metadata": {},
   "outputs": [
    {
     "name": "stdout",
     "output_type": "stream",
     "text": [
      "Please enter the number :10\n",
      "0\n",
      "1\n",
      "2\n",
      "3\n",
      "4\n",
      "5\n",
      "6\n",
      "7\n",
      "8\n",
      "9\n"
     ]
    }
   ],
   "source": [
    "# A program to print a series of integer numbers using range() provided bu user\n",
    "\n",
    "number = int(input('Please enter the number :'))\n",
    "\n",
    "for i in range(number):\n",
    "    print(i)"
   ]
  },
  {
   "cell_type": "markdown",
   "metadata": {},
   "source": [
    "# Question 3:\n",
    "### Consider two numbers. Perform their subtraction and if the result of subtraction is greater than 25, print their multiplication result else print their division result"
   ]
  },
  {
   "cell_type": "code",
   "execution_count": 4,
   "metadata": {},
   "outputs": [
    {
     "name": "stdout",
     "output_type": "stream",
     "text": [
      "Enter the first number :50\n",
      "Enter the second number : 10\n",
      "Multiplication of two given numbers is:  500\n"
     ]
    }
   ],
   "source": [
    "# The program will take two numbers as a input from user\n",
    "# if the subtraction of the provided number is > 25, it will multiply the numbers and display it to the user \n",
    "# else devide the numbers and show to the user\n",
    "\n",
    "number1 = int(input(\"Enter the first number :\"))\n",
    "number2 = int(input(\"Enter the second number : \"))\n",
    "\n",
    "subtraction = number1 - number2\n",
    "\n",
    "if (subtraction > 25):\n",
    "    print(\"Multiplication of two given numbers is: \",number1*number2)\n",
    "\n",
    "else:\n",
    "    print(\"Division of two given numbers is: \",number1/number2)"
   ]
  },
  {
   "cell_type": "markdown",
   "metadata": {},
   "source": [
    "# Question 4:\n",
    "### Consider a list of 10 elements of integer values. If the number in the list is divisible by 2, print the result as \"square of that number minus 2\"."
   ]
  },
  {
   "cell_type": "code",
   "execution_count": 8,
   "metadata": {},
   "outputs": [
    {
     "name": "stdout",
     "output_type": "stream",
     "text": [
      "Squre number of 10  minus 2 is : 2\n",
      "Squre number of 10  minus 2 is : 14\n",
      "Squre number of 10  minus 2 is : 34\n",
      "Squre number of 10  minus 2 is : 62\n",
      "Squre number of 10  minus 2 is : 98\n"
     ]
    }
   ],
   "source": [
    "# a list of integer numbers with 10 elements\n",
    "lstOfNumbers = [10,11,12,13,14,15,16,17,18,19,20]\n",
    "\n",
    "for n in lstOfNumbers1 :\n",
    "    if (n%2==0) :\n",
    "        print('Squre number of', i, ' minus 2 is :',(n**2)-2)\n",
    "        "
   ]
  },
  {
   "cell_type": "markdown",
   "metadata": {},
   "source": [
    "# Question 5:\n",
    "## Consider a list of 10 elements. Print all the elements in the list which are greater than 7 when that number is divided 2."
   ]
  },
  {
   "cell_type": "code",
   "execution_count": 9,
   "metadata": {},
   "outputs": [
    {
     "name": "stdout",
     "output_type": "stream",
     "text": [
      "8\n",
      "10\n"
     ]
    }
   ],
   "source": [
    "# a list of integer numbers with 10 elements\n",
    "\n",
    "lstOfNumbers =[1,2,3,4,5,6,7,8,9,10]\n",
    "# print the numbers which is greater than 7 and divisible by 2\n",
    "for n in lstOfNumbers :\n",
    "    if n>7 and n%2==0:\n",
    "        print(n)"
   ]
  },
  {
   "cell_type": "code",
   "execution_count": null,
   "metadata": {},
   "outputs": [],
   "source": []
  }
 ],
 "metadata": {
  "kernelspec": {
   "display_name": "Python 3",
   "language": "python",
   "name": "python3"
  },
  "language_info": {
   "codemirror_mode": {
    "name": "ipython",
    "version": 3
   },
   "file_extension": ".py",
   "mimetype": "text/x-python",
   "name": "python",
   "nbconvert_exporter": "python",
   "pygments_lexer": "ipython3",
   "version": "3.7.6"
  }
 },
 "nbformat": 4,
 "nbformat_minor": 4
}
