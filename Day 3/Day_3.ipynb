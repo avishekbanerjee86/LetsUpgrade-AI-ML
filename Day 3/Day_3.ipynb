{
 "cells": [
  {
   "cell_type": "markdown",
   "metadata": {},
   "source": [
    "# Question 1 :\n",
    "## Write a program to subtract two complex numbers in Python."
   ]
  },
  {
   "cell_type": "code",
   "execution_count": 5,
   "metadata": {},
   "outputs": [
    {
     "name": "stdout",
     "output_type": "stream",
     "text": [
      "Substruction of two complex number a and b is : (1+1j)\n"
     ]
    }
   ],
   "source": [
    "'''A program to subtract two complex numbers in Python'''\n",
    "\n",
    "a = 2+3j\n",
    "b = 1+2j\n",
    "c = a-b\n",
    "print(\"Substruction of two complex number a and b is :\", c )"
   ]
  },
  {
   "cell_type": "markdown",
   "metadata": {},
   "source": [
    "# Question 2 :\n",
    "## Write a program to find the fourth root of a number"
   ]
  },
  {
   "cell_type": "code",
   "execution_count": 56,
   "metadata": {},
   "outputs": [
    {
     "name": "stdout",
     "output_type": "stream",
     "text": [
      "Forth root of  8 is : 1.681792830507429\n"
     ]
    }
   ],
   "source": [
    "'''A program to find the fourth root of a number'''\n",
    "\n",
    "number = 8\n",
    "forthroot = number**(1/4)\n",
    "print('Forth root of ', number, 'is :',forthroot)\n"
   ]
  },
  {
   "cell_type": "markdown",
   "metadata": {},
   "source": [
    "# Question 3:\n",
    "## Write a program to swap two numbers in Python with the help of a temporary variable."
   ]
  },
  {
   "cell_type": "code",
   "execution_count": 47,
   "metadata": {},
   "outputs": [
    {
     "name": "stdout",
     "output_type": "stream",
     "text": [
      "Before swap, value of a : 2  and b : 5\n",
      "After swap, value of a : 5  and b :  2\n"
     ]
    }
   ],
   "source": [
    "'''A program to swap two numbers in Python with the help of a temporary variable'''\n",
    "\n",
    "a=int(2)\n",
    "b=int(5)\n",
    "print('Before swap, value of a :', a , ' and b :', b)\n",
    "c=a\n",
    "a=b\n",
    "b=c\n",
    "print('After swap, value of a :', a , ' and b : ' , b)\n"
   ]
  },
  {
   "cell_type": "markdown",
   "metadata": {},
   "source": [
    "# Question 4:\n",
    "## Write a program to swap two numbers in Python without using a temporary variable."
   ]
  },
  {
   "cell_type": "code",
   "execution_count": 50,
   "metadata": {},
   "outputs": [
    {
     "name": "stdout",
     "output_type": "stream",
     "text": [
      "Before swap, value of a : 20  and b :  30\n",
      "After swap, value of a : 30  and b :  20\n"
     ]
    }
   ],
   "source": [
    "'''A program to swap two numbers in Python without using a temporary variable.'''\n",
    "\n",
    "a=int(20)\n",
    "b=int(30)\n",
    "print('Before swap, value of a :', a , ' and b : ', b)\n",
    "a=a+b\n",
    "b=a-b\n",
    "a=a-b\n",
    "print('After swap, value of a :', a ,  ' and b : ', b)\n"
   ]
  },
  {
   "cell_type": "markdown",
   "metadata": {},
   "source": [
    "# Question 5:\n",
    "## Write a program to convert fahrenheit to kelvin and celsius both."
   ]
  },
  {
   "cell_type": "code",
   "execution_count": 52,
   "metadata": {},
   "outputs": [
    {
     "name": "stdout",
     "output_type": "stream",
     "text": [
      "Temparature of 86°F in Kelvins  303.15\n",
      "Temparature of 86°F in Celsius  30.0\n"
     ]
    }
   ],
   "source": [
    "'''A program to convert fahrenheit to kelvin and celsius both'''\n",
    "\n",
    "TemparatureInF=int(86)\n",
    "\n",
    "\"\"\"Fahrenheit degrees into Kelvins, (°F − 32) × 5/9 + 273.15 = K\"\"\"\n",
    "TemparatureInK= (TemparatureInF - 32)  * 5/9 + 273.15\n",
    "print('Temparature of 86°F in Kelvins ', TemparatureInK)\n",
    "\n",
    "\"\"\"Fahrenheit degrees into  Celsius, (°F − 32) × 5/9 = °C\"\"\"\n",
    "\n",
    "TemparatureInC=(TemparatureInF - 32) * 5/9\n",
    "print('Temparature of 86°F in Celsius ', TemparatureInC)"
   ]
  },
  {
   "cell_type": "markdown",
   "metadata": {},
   "source": [
    "# Question 6:\n",
    "## Write a program to demonstrate all the available data types in Python. Hint: Use type() function."
   ]
  },
  {
   "cell_type": "code",
   "execution_count": 57,
   "metadata": {},
   "outputs": [
    {
     "name": "stdout",
     "output_type": "stream",
     "text": [
      "type of number_int is: <class 'int'>\n",
      "type of number_string is: <class 'str'>\n",
      "type of number_float is: <class 'float'>\n",
      "type of number_complex is: <class 'complex'>\n",
      "type of type_bool is: <class 'bool'>\n",
      "type of type_list is: <class 'list'>\n",
      "type of type_tupple is: <class 'tuple'>\n",
      "type of type_set is: <class 'set'>\n",
      "type of type_dictionary is: <class 'dict'>\n"
     ]
    }
   ],
   "source": [
    "'''A program to demonstrate all the available data types in Python. Hint: Use type() function'''\n",
    "\n",
    "number_int = 7\n",
    "number_string = \"Avishek\"\n",
    "number_float= 24.55\n",
    "number_complex = 1+2j\n",
    "type_bool = True\n",
    "type_list= [1,2,3,4,5]\n",
    "type_tupple = (1,2,3,4,5)\n",
    "type_set = {'true','false'}\n",
    "type_dictionary = { \"Name\" :'Avishek', \"EmpployeeiD\" : '123'}\n",
    "print('type of number_int is:',type(number_int))\n",
    "print('type of number_string is:',type(number_string))\n",
    "print('type of number_float is:',type(number_float))\n",
    "print('type of number_complex is:',type(number_complex))\n",
    "print('type of type_bool is:',type(type_bool))\n",
    "print('type of type_list is:',type(type_list))\n",
    "print('type of type_tupple is:',type(type_tupple))\n",
    "print('type of type_set is:',type(type_set))\n",
    "print('type of type_dictionary is:',type(type_dictionary))"
   ]
  },
  {
   "cell_type": "markdown",
   "metadata": {},
   "source": [
    "# Question 7:\n",
    "## Create a Markdown cell in jupyter and list the steps discussed in the session by Dr. Darshan Ingle sir to create Github profile and upload Githubs Assignment link."
   ]
  },
  {
   "cell_type": "markdown",
   "metadata": {},
   "source": [
    "### Steps to create Github profile and upload Githubs Assignment link\n",
    "\n",
    "<ol>\n",
    "<li>a) Register yourself and create a profile in Github of yours by filling up the create your account form  (https://github.com/join)</li>\n",
    "<li>b) Then create a Github public repo and name it LetsUpgrade AI/ML (keep the default options)</li>\n",
    "<li>c) Upload the files/solution in the repo in day wise manner </li>\n",
    "<li>d) Copy the URL of the Folder of that day and paste in the Assignment Submission Form (https://bit.ly/aimlassignment)</li>    \n",
    "</ol>"
   ]
  },
  {
   "cell_type": "code",
   "execution_count": null,
   "metadata": {},
   "outputs": [],
   "source": []
  }
 ],
 "metadata": {
  "kernelspec": {
   "display_name": "Python 3",
   "language": "python",
   "name": "python3"
  },
  "language_info": {
   "codemirror_mode": {
    "name": "ipython",
    "version": 3
   },
   "file_extension": ".py",
   "mimetype": "text/x-python",
   "name": "python",
   "nbconvert_exporter": "python",
   "pygments_lexer": "ipython3",
   "version": "3.7.6"
  }
 },
 "nbformat": 4,
 "nbformat_minor": 4
}
